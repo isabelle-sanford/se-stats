{
 "cells": [
  {
   "cell_type": "markdown",
   "metadata": {},
   "source": [
    "## Tables to create\n",
    "\n",
    "Key tables\n",
    "* alignment\n",
    "* death\n",
    "* roles\n",
    "* settings\n",
    "\n",
    "Data tables\n",
    "* player (just player name & id)\n",
    "* game (general stats about each game)\n",
    "* gms (gms for each game)\n",
    "* playergame (each player's stats in each game)\n",
    "* player_roles (roles for a row in playergame)"
   ]
  },
  {
   "cell_type": "markdown",
   "metadata": {},
   "source": [
    "### Key tables\n",
    "Note: need to implement check against unique values in PG once that's set"
   ]
  },
  {
   "cell_type": "code",
   "execution_count": null,
   "metadata": {},
   "outputs": [],
   "source": []
  },
  {
   "cell_type": "markdown",
   "metadata": {},
   "source": [
    "Cleaning player-game table (Data tab)"
   ]
  },
  {
   "cell_type": "code",
   "execution_count": null,
   "metadata": {},
   "outputs": [],
   "source": [
    "import pandas as pd \n",
    "\n",
    "data = pd.read_csv(\"data/original_data/original_data.csv\")\n",
    "\n",
    "data.rename(inplace=True, columns={\n",
    "    \"Player\": \"player_name\",\n",
    "    \"Alignment\": \"alignment_type\",\n",
    "    \"Faction Outcome\": \"win\", \n",
    "    \"First Hit\": \"first_hit\", \n",
    "    \"Last Hit\": \"last_hit\",\n",
    "    \"# of Hits\": \"num_hits\",\n",
    "    \"Death/\\r\\n Survival\": \"death\", # ???\n",
    "    \"Inactive\": \"inactive\",\n",
    "    \"Mod\": \"IM\",\n",
    "    \"Game Type\": \"format\",\n",
    "    \"Game #\": \"game_num\",\n",
    "    \"Unnamed: 14\": \"game_string\",\n",
    "    \"Role\": \"role\",\n",
    "    \"Unnamed: 17\": \"secondary_role\"\n",
    "    })\n",
    "\n",
    "data.head()"
   ]
  }
 ],
 "metadata": {
  "language_info": {
   "name": "python"
  },
  "orig_nbformat": 4
 },
 "nbformat": 4,
 "nbformat_minor": 2
}
