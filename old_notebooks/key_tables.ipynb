{
 "cells": [
  {
   "cell_type": "markdown",
   "metadata": {},
   "source": [
    "Key tables\n",
    "* alignment\n",
    "* death\n",
    "* roles\n",
    "* settings (debatably)\n",
    "\n",
    "Note: need to implement check against unique values in PG once that's set. And tbh this is very manual - is there some way to automate this? The key tab isn't really set up appropriately for that... Maybe pull from a CSV rather than making dicts? yeah definitely that, that way I can just make google sheet with key stuff\n",
    "\n",
    "sheet: https://docs.google.com/spreadsheets/d/1KqiOoSibGecEBfPMVa5KUvL9VWJ2rgiTRoIUGkMhpOk/edit?usp=sharing"
   ]
  },
  {
   "cell_type": "code",
   "execution_count": null,
   "metadata": {},
   "outputs": [],
   "source": [
    "import pandas as pd"
   ]
  },
  {
   "cell_type": "code",
   "execution_count": null,
   "metadata": {},
   "outputs": [],
   "source": [
    "# ALIGNMENT: id, char, desc, is_elim, is_evil\n",
    "\n"
   ]
  },
  {
   "cell_type": "code",
   "execution_count": null,
   "metadata": {},
   "outputs": [],
   "source": []
  }
 ],
 "metadata": {
  "language_info": {
   "name": "python"
  },
  "orig_nbformat": 4
 },
 "nbformat": 4,
 "nbformat_minor": 2
}
